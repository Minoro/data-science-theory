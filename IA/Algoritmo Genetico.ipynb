{
 "cells": [
  {
   "cell_type": "markdown",
   "metadata": {},
   "source": [
    "# Algoritmo Genético"
   ]
  },
  {
   "cell_type": "code",
   "execution_count": 12,
   "metadata": {},
   "outputs": [],
   "source": [
    "import random\n",
    "\n",
    "# peso máximo da mochila\n",
    "limite_peso = 120 #C\n",
    "tamanho_populacao = 10 #Np\n",
    "probabilidade_mutacao = 0.2 # Pm\n",
    "probabilidade_crossover = 0.8 #Pc\n",
    "maximo_geracoes = 500 \n",
    "\n",
    "# população inicial do problema\n",
    "itens_disponiveis = [ \n",
    "    { 'peso': 3, 'valor': 1},\n",
    "    { 'peso': 8, 'valor': 3},\n",
    "    { 'peso': 12, 'valor': 1},\n",
    "    { 'peso': 2, 'valor': 8},\n",
    "    { 'peso': 8, 'valor': 9},\n",
    "    { 'peso': 4, 'valor': 3},\n",
    "    { 'peso': 4, 'valor': 2},\n",
    "    { 'peso': 5, 'valor': 8},\n",
    "    { 'peso': 1, 'valor': 5},\n",
    "    { 'peso': 1, 'valor': 1},\n",
    "    { 'peso': 8, 'valor': 1},\n",
    "    { 'peso': 6, 'valor': 6},\n",
    "    { 'peso': 4, 'valor': 3},\n",
    "    { 'peso': 3, 'valor': 2},\n",
    "    { 'peso': 3, 'valor': 5},\n",
    "    { 'peso': 5, 'valor': 2},\n",
    "    { 'peso': 7, 'valor': 3},\n",
    "    { 'peso': 3, 'valor': 8},\n",
    "    { 'peso': 5, 'valor': 9},\n",
    "    { 'peso': 7, 'valor': 3},\n",
    "    { 'peso': 4, 'valor': 2},\n",
    "    { 'peso': 3, 'valor': 4},\n",
    "    { 'peso': 7, 'valor': 5},\n",
    "    { 'peso': 2, 'valor': 4},\n",
    "    { 'peso': 3, 'valor': 3},\n",
    "    { 'peso': 5, 'valor': 1},\n",
    "    { 'peso': 4, 'valor': 3},\n",
    "    { 'peso': 3, 'valor': 2},\n",
    "    { 'peso': 7, 'valor': 14},\n",
    "    { 'peso': 19, 'valor': 32},\n",
    "    { 'peso': 20, 'valor': 20},\n",
    "    { 'peso': 21, 'valor': 19},\n",
    "    { 'peso': 11, 'valor': 15},\n",
    "    { 'peso': 24, 'valor': 37},\n",
    "    { 'peso': 13, 'valor': 18},\n",
    "    { 'peso': 17, 'valor': 13},\n",
    "    { 'peso': 18, 'valor': 19},\n",
    "    { 'peso': 6, 'valor': 10},\n",
    "    { 'peso': 15, 'valor': 15},\n",
    "    { 'peso': 25, 'valor': 40},\n",
    "    { 'peso': 12, 'valor': 17},\n",
    "    { 'peso': 19, 'valor': 39},\n",
    "]\n"
   ]
  },
  {
   "cell_type": "code",
   "execution_count": 76,
   "metadata": {},
   "outputs": [
    {
     "name": "stdout",
     "output_type": "stream",
     "text": [
      "População inicial\n",
      "\n",
      "\n",
      "0 1 1 0 0 1 1 1 1 1 1 1 0 1 1 1 1 0 1 0 0 1 1 1 0 1 0 1 1 1 0 0 0 0 1 0 0 1 1 1 1 1 \n",
      "\n",
      "0 1 0 0 1 1 1 0 1 1 0 1 1 0 1 0 1 1 0 1 0 0 1 0 0 1 0 1 0 0 1 0 1 1 0 0 1 1 0 1 0 0 \n",
      "\n",
      "1 1 0 1 0 1 1 1 0 0 1 0 1 0 0 0 0 0 0 0 1 0 1 1 1 0 0 1 1 1 0 0 1 0 1 1 0 0 0 1 0 0 \n",
      "\n",
      "0 0 0 0 1 1 1 0 0 1 0 1 1 0 0 0 1 0 1 1 1 0 1 1 1 1 1 0 0 0 1 0 0 0 0 0 1 0 1 0 0 1 \n",
      "\n",
      "0 1 0 1 1 1 1 1 1 1 1 0 1 0 1 1 0 1 1 1 1 0 1 0 1 0 1 0 1 0 0 0 1 1 1 0 1 0 1 0 1 1 \n",
      "\n",
      "1 0 0 1 0 1 0 1 1 1 0 0 0 0 0 1 1 1 0 1 1 1 1 1 0 0 0 1 0 0 0 0 0 0 1 0 1 0 0 1 0 0 \n",
      "\n",
      "1 1 1 1 1 1 1 1 1 0 1 0 0 1 1 0 1 1 1 1 0 0 0 1 1 1 1 1 0 0 1 1 0 0 1 1 1 0 1 1 0 1 \n",
      "\n",
      "1 1 0 1 1 1 0 1 0 0 1 0 0 0 1 1 0 1 0 1 1 0 1 0 1 1 0 1 1 1 0 0 1 0 1 1 1 1 0 0 0 0 \n",
      "\n",
      "0 1 1 0 1 1 0 1 1 1 0 0 1 1 1 1 0 1 1 1 1 1 0 0 1 1 1 0 1 1 1 1 1 1 0 0 0 0 1 1 0 1 \n",
      "\n",
      "0 0 0 1 0 0 1 1 0 1 1 0 1 1 1 0 1 1 0 1 0 1 1 0 0 1 0 0 0 0 0 0 0 0 1 1 0 0 0 0 1 0 "
     ]
    }
   ],
   "source": [
    "def gerar_populacao_inicial():\n",
    "    num_max_itens = len(itens_disponiveis)\n",
    "    # return [random.choice([0,1]) for i in range(num_max_itens)]\n",
    "    return [ [random.choice([0,1]) for i in range(num_max_itens)] for j in range(tamanho_populacao)] \n",
    "\n",
    "\n",
    "def print_geracao(geracao):\n",
    "    for g in geracao:\n",
    "        print('\\n')\n",
    "        for gene in g:\n",
    "            print('%s ' %(gene), end='', flush=True)\n",
    "        \n",
    "\n",
    "populacao_inicial = gerar_populacao_inicial()\n",
    "\n",
    "print('População inicial')\n",
    "print_geracao(populacao_inicial)"
   ]
  },
  {
   "cell_type": "code",
   "execution_count": 85,
   "metadata": {},
   "outputs": [
    {
     "name": "stdout",
     "output_type": "stream",
     "text": [
      "[(208, 252), (175, 200), (149, 177), (143, 150), (205, 257), (113, 136), (248, 267), (169, 185), (249, 306), (104, 102)]\n",
      "(113, 136)\n"
     ]
    }
   ],
   "source": [
    "# recupera os indices dos valores selecionados para serem inseridos na mochila\n",
    "def get_index_populacao(populacao):\n",
    "    return [[index for (index, item) in enumerate(itens_disponiveis) if p[index]] for p in populacao]\n",
    "\n",
    "# recupera os itens selecionados da população\n",
    "def get_itens_populacao(populacao):\n",
    "    return [[item for (index, item) in enumerate(itens_disponiveis) if p[index]] for p in populacao]\n",
    "\n",
    "# recupera os itens de um unico individuo da população\n",
    "def get_itens_individuo(individuo):\n",
    "    return [item for (index, item) in enumerate(itens_disponiveis) if individuo[index]]\n",
    "\n",
    "# Função fitness para uma população\n",
    "# Retorna a soma dos pesos e valores de cada item da mochila\n",
    "def fitness(populacao):\n",
    "    itens_populacao = get_itens_populacao(populacao)\n",
    "    \n",
    "    fitness_values = []\n",
    "    for itens_individuo in itens_populacao:\n",
    "        fitness_values.append( sum_itens(itens_individuo) )\n",
    "        \n",
    "    return fitness_values\n",
    "\n",
    "# Função fitness para um unico indivíduo da população\n",
    "def fitness_individuo(individuo):\n",
    "    itens_individuo = get_itens_individuo(individuo)\n",
    "    \n",
    "    return sum_itens(itens_individuo)\n",
    "\n",
    "# soma os pesos e valores dos itens apresentados\n",
    "def sum_itens(itens):\n",
    "    soma_peso = 0\n",
    "    soma_valor = 0\n",
    "    for item in itens:\n",
    "        soma_peso += item['peso']\n",
    "        soma_valor += item['valor']\n",
    "    \n",
    "    return (soma_peso, soma_valor)\n",
    "\n",
    "print(fitness(populacao_inicial))\n",
    "\n",
    "print(fitness_individuo(populacao_inicial[5]))"
   ]
  },
  {
   "cell_type": "code",
   "execution_count": null,
   "metadata": {},
   "outputs": [],
   "source": []
  },
  {
   "cell_type": "code",
   "execution_count": null,
   "metadata": {},
   "outputs": [],
   "source": []
  }
 ],
 "metadata": {
  "kernelspec": {
   "display_name": "Python 3",
   "language": "python",
   "name": "python3"
  },
  "language_info": {
   "codemirror_mode": {
    "name": "ipython",
    "version": 3
   },
   "file_extension": ".py",
   "mimetype": "text/x-python",
   "name": "python",
   "nbconvert_exporter": "python",
   "pygments_lexer": "ipython3",
   "version": "3.7.1"
  }
 },
 "nbformat": 4,
 "nbformat_minor": 2
}
