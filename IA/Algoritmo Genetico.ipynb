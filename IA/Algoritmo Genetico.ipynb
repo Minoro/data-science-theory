{
 "cells": [
  {
   "cell_type": "markdown",
   "metadata": {},
   "source": [
    "# Algoritmo Genético - Problema da mochila\n",
    "\n",
    "O problema da mochila consiste em escolher os itens com maior valor (benefício) que podem ser inseridos em uma mochila sem extrapolar uma condição $ C $ (peso, espaço, etc).\n",
    "\n",
    "Esse é um problema de otimização em que o objetivo é maximizar o benefício dentro da condição $ C $.\n",
    "\n",
    "Esse tipo de problema pode ser resolvido por meio de um algoritmo genético.\n",
    "\n",
    "Os algoritmos genéticos mapeiam o problema para um vetor de bits (há outras formas) em que o bit 1 representa que o item foi selecionado e o bit 0 o item não foi selecionado.\n",
    "\n",
    "O algoritmo gera uma população inicial aleatória que será mapeada para um vetor de bits. Em seguida é aplicada uma função fitness (heurística) sobre a população, os melhores dessa população serão escolhidos para reprodução (*crossover*), então ocorre  uma mutação (altera o valor de nenhum, um ou mais bits) com base em um fator de probabilidade, então a função fitness é aplicada novamente e os mais aptos são selecionados para a nova geração. O processo se repete até atingir uma condição de parada.\n",
    "\n",
    "Pode ocorrer de um ou mais indivíduos não pertencerem ao conjunto de soluções do problema, então é aplicada um punição ou correção sobre os indivíduos antes de selecionar a nova geração."
   ]
  },
  {
   "cell_type": "code",
   "execution_count": 1,
   "metadata": {},
   "outputs": [],
   "source": [
    "import random\n",
    "\n",
    "# peso máximo da mochila\n",
    "limite_peso = 120 #C\n",
    "tamanho_populacao = 100 #Np\n",
    "probabilidade_mutacao = 0.005 # Pm\n",
    "probabilidade_crossover = 0.9 #Pc\n",
    "maximo_geracoes = 500 \n",
    "\n",
    "# população inicial do problema\n",
    "itens_disponiveis = [ \n",
    "    { 'peso': 3, 'valor': 1},\n",
    "    { 'peso': 8, 'valor': 3},\n",
    "    { 'peso': 12, 'valor': 1},\n",
    "    { 'peso': 2, 'valor': 8},\n",
    "    { 'peso': 8, 'valor': 9},\n",
    "    { 'peso': 4, 'valor': 3},\n",
    "    { 'peso': 4, 'valor': 2},\n",
    "    { 'peso': 5, 'valor': 8},\n",
    "    { 'peso': 1, 'valor': 5},\n",
    "    { 'peso': 1, 'valor': 1},\n",
    "    { 'peso': 8, 'valor': 1},\n",
    "    { 'peso': 6, 'valor': 6},\n",
    "    { 'peso': 4, 'valor': 3},\n",
    "    { 'peso': 3, 'valor': 2},\n",
    "    { 'peso': 3, 'valor': 5},\n",
    "    { 'peso': 5, 'valor': 2},\n",
    "    { 'peso': 7, 'valor': 3},\n",
    "    { 'peso': 3, 'valor': 8},\n",
    "    { 'peso': 5, 'valor': 9},\n",
    "    { 'peso': 7, 'valor': 3},\n",
    "    { 'peso': 4, 'valor': 2},\n",
    "    { 'peso': 3, 'valor': 4},\n",
    "    { 'peso': 7, 'valor': 5},\n",
    "    { 'peso': 2, 'valor': 4},\n",
    "    { 'peso': 3, 'valor': 3},\n",
    "    { 'peso': 5, 'valor': 1},\n",
    "    { 'peso': 4, 'valor': 3},\n",
    "    { 'peso': 3, 'valor': 2},\n",
    "    { 'peso': 7, 'valor': 14},\n",
    "    { 'peso': 19, 'valor': 32},\n",
    "    { 'peso': 20, 'valor': 20},\n",
    "    { 'peso': 21, 'valor': 19},\n",
    "    { 'peso': 11, 'valor': 15},\n",
    "    { 'peso': 24, 'valor': 37},\n",
    "    { 'peso': 13, 'valor': 18},\n",
    "    { 'peso': 17, 'valor': 13},\n",
    "    { 'peso': 18, 'valor': 19},\n",
    "    { 'peso': 6, 'valor': 10},\n",
    "    { 'peso': 15, 'valor': 15},\n",
    "    { 'peso': 25, 'valor': 40},\n",
    "    { 'peso': 12, 'valor': 17},\n",
    "    { 'peso': 19, 'valor': 39},\n",
    "]\n"
   ]
  },
  {
   "cell_type": "code",
   "execution_count": 2,
   "metadata": {
    "scrolled": false
   },
   "outputs": [],
   "source": [
    "def gerar_populacao_inicial():\n",
    "    num_max_itens = len(itens_disponiveis)\n",
    "    \n",
    "    return [ [random.choice([0,1]) for i in range(num_max_itens)] for j in range(tamanho_populacao)] \n",
    "\n",
    "\n",
    "def print_geracao(geracao):\n",
    "    for g in geracao:\n",
    "        print('\\n')\n",
    "        for gene in g:\n",
    "            print('%s ' %(gene), end='', flush=True)\n",
    "        \n",
    "\n",
    "# populacao_inicial = gerar_populacao_inicial()\n",
    "\n",
    "# print('População inicial')\n",
    "# print_geracao(populacao_inicial)"
   ]
  },
  {
   "cell_type": "markdown",
   "metadata": {},
   "source": [
    "## Função fitness\n",
    "\n",
    "É avaliada a heurística da população gerada para futuramente escolher os melhores para reprodução."
   ]
  },
  {
   "cell_type": "code",
   "execution_count": 22,
   "metadata": {},
   "outputs": [],
   "source": [
    "# recupera os indices dos valores selecionados para serem inseridos na mochila\n",
    "def get_index_populacao(populacao):\n",
    "    return [[index for (index, item) in enumerate(itens_disponiveis) if p[index]] for p in populacao]\n",
    "\n",
    "# recupera os itens selecionados da população\n",
    "def get_itens_populacao(populacao):\n",
    "    return [[item for (index, item) in enumerate(itens_disponiveis) if p[index]] for p in populacao]\n",
    "\n",
    "# recupera os itens de um unico individuo da população\n",
    "def get_itens_individuo(individuo):\n",
    "    return [item for (index, item) in enumerate(itens_disponiveis) if individuo[index]]\n",
    "\n",
    "# Função fitness para uma população\n",
    "# Retorna a soma dos pesos e valores de cada item da mochila\n",
    "def fitness(populacao, force_zero = False):\n",
    "    itens_populacao = get_itens_populacao(populacao)\n",
    "    \n",
    "    fitness_values = []\n",
    "    for index, itens_individuo in enumerate(itens_populacao):\n",
    "        f =  sum_itens(itens_individuo)\n",
    "        if(force_zero and f['peso'] > limite_peso):\n",
    "            f['valor'] = 0\n",
    "            \n",
    "        f['individuo'] = populacao[index] \n",
    "        fitness_values.append( f )\n",
    "        \n",
    "    return fitness_values\n",
    "\n",
    "# Função fitness para um unico indivíduo da população\n",
    "def fitness_individuo(individuo):\n",
    "    itens_individuo = get_itens_individuo(individuo)\n",
    "    \n",
    "    return sum_itens(itens_individuo)\n",
    "\n",
    "def fitness_normalizada(populacao):\n",
    "    fitness_values = fitness(populacao)\n",
    "    fitness_total = sum_fitness(fitness_values)\n",
    "    normalizado = []\n",
    "    \n",
    "    for individuo in populacao:\n",
    "        f = fitness_individuo(individuo)\n",
    "        f_normalizado = {\n",
    "            'peso': f['peso'] / fitness_total['peso'], \n",
    "            'valor': f['valor'] / fitness_total['valor']\n",
    "        }\n",
    "        \n",
    "        normalizado.append(f_normalizado)\n",
    "        \n",
    "    return normalizado\n",
    "    \n",
    "# Retorna a soma do peso dos indivíduos\n",
    "def get_peso_individuo(individuo):\n",
    "    peso = 0\n",
    "    for item in get_itens_individuo(individuo):\n",
    "        peso += item['peso']\n",
    "    return peso\n",
    "\n",
    "# Soma todos os valores da função fitness apresentados\n",
    "def sum_fitness(fitness_values):\n",
    "    return sum_itens(fitness_values)\n",
    "\n",
    "# soma os pesos e valores dos itens apresentados\n",
    "def sum_itens(itens):\n",
    "    soma_peso = 0\n",
    "    soma_valor = 0\n",
    "    for item in itens:\n",
    "        soma_peso += item['peso']\n",
    "        soma_valor += item['valor']\n",
    "    \n",
    "    return {'peso': soma_peso, 'valor': soma_valor}\n",
    "   \n",
    "\n",
    "# fitness_values = fitness(populacao_inicial)\n",
    "# print(fitness_values)\n",
    "\n",
    "# print(fitness_individuo(populacao_inicial[5]))\n",
    "\n",
    "# print(sum_fitness(fitness_values))\n",
    "\n",
    "# print(fitness_normalizada(populacao_inicial))"
   ]
  },
  {
   "cell_type": "markdown",
   "metadata": {},
   "source": [
    "## Seleção\n",
    "\n",
    "Seleção dos indivíduos aptos a se reproduzirem e passar "
   ]
  },
  {
   "cell_type": "code",
   "execution_count": 5,
   "metadata": {
    "scrolled": false
   },
   "outputs": [],
   "source": [
    "def selecao_roleta(populacao):\n",
    "    p = fitness_normalizada(populacao)\n",
    "    \n",
    "    selecionados = []\n",
    "    for individuo in populacao:\n",
    "        p_selecao = random.uniform(0, 1)\n",
    "        \n",
    "        index_individuo_selecionado = 0\n",
    "        soma = p[index_individuo_selecionado]['valor']\n",
    "        while soma < p_selecao:\n",
    "            index_individuo_selecionado += 1\n",
    "            soma += p[index_individuo_selecionado]['valor']\n",
    "        \n",
    "        selecionados.append(populacao[index_individuo_selecionado])\n",
    "    \n",
    "    return selecionados\n",
    "\n",
    "\n",
    "# populacao = selecao_roleta(populacao_inicial)\n",
    "# print_geracao(populacao)    "
   ]
  },
  {
   "cell_type": "markdown",
   "metadata": {},
   "source": [
    "# Crossover\n"
   ]
  },
  {
   "cell_type": "code",
   "execution_count": 6,
   "metadata": {
    "scrolled": false
   },
   "outputs": [],
   "source": [
    "def crossover(populacao, probabilidade = probabilidade_crossover):\n",
    "    \n",
    "    populacao_crossover = list(populacao) #copia a população inicial para não deletar\n",
    "    tamanho_populacao = len(populacao_crossover)\n",
    "    \n",
    "    num_individuos_crossover = 0 #numero de individuos que passaram por crossover\n",
    "    crossovered = [] #população após crossover\n",
    "    \n",
    "    while num_individuos_crossover < tamanho_populacao:\n",
    "        num_individuos_crossover += 2\n",
    "        \n",
    "        individuo_1 = select_and_remove(populacao_crossover)\n",
    "        individuo_2 = select_and_remove(populacao_crossover)\n",
    "        \n",
    "        # probabilidade de crossover menor que o limiar\n",
    "        p_not_crossover = random.uniform(0, 1)\n",
    "        if probabilidade < p_not_crossover:\n",
    "            # caso não tenha ocorrido o crossover\n",
    "            crossovered.append(individuo_1)\n",
    "            crossovered.append(individuo_2)\n",
    "            continue\n",
    "        \n",
    "        ponto_corte  = random.randrange(len(individuo_1))\n",
    "        \n",
    "        filho_1 = list(individuo_1[: ponto_corte ]) + list(individuo_2[ponto_corte : ])\n",
    "        filho_2 = list(individuo_2[: ponto_corte ]) + list(individuo_1[ponto_corte : ])\n",
    "        \n",
    "        crossovered.append(filho_1)\n",
    "        crossovered.append(filho_2)\n",
    "    \n",
    "    return crossovered\n",
    "        \n",
    "def select_and_remove(populacao):\n",
    "    #index_individuo = random.randrange(len(populacao))\n",
    "    index_individuo = 0 # seleciona sempre os primeiro\n",
    "    individuo = populacao[index_individuo]\n",
    "    \n",
    "    del populacao[index_individuo]\n",
    "    \n",
    "    return individuo\n",
    "\n",
    "# populacao = crossover(populacao)\n",
    "# print_geracao(populacao)\n"
   ]
  },
  {
   "cell_type": "markdown",
   "metadata": {},
   "source": [
    "# Mutação"
   ]
  },
  {
   "cell_type": "code",
   "execution_count": 7,
   "metadata": {
    "scrolled": false
   },
   "outputs": [],
   "source": [
    "def mutar(populacao, probabilidade=probabilidade_mutacao):\n",
    "    \n",
    "    for (index, individuo) in enumerate(populacao):\n",
    "        populacao[index] = mutar_individuo(list(individuo), probabilidade)\n",
    "    \n",
    "    return populacao\n",
    "\n",
    "\n",
    "def mutar_individuo(individuo, probabilidade):\n",
    "    for (index, gene) in enumerate(individuo):\n",
    "        p_not_mutar = random.uniform(0, 1)\n",
    "        #não muta\n",
    "        if(probabilidade < p_not_mutar):\n",
    "            continue\n",
    "        \n",
    "        if individuo[index] == 1:\n",
    "            individuo[index] = 0\n",
    "        else:\n",
    "            individuo[index] = 1\n",
    "    \n",
    "    return individuo\n",
    "\n",
    "#print_geracao(mutar(populacao))"
   ]
  },
  {
   "cell_type": "markdown",
   "metadata": {},
   "source": [
    "# Penalização"
   ]
  },
  {
   "cell_type": "code",
   "execution_count": 29,
   "metadata": {},
   "outputs": [],
   "source": [
    "# retorna a lista com os valores fitness penalizados\n",
    "# caso o peso ultrapasse o limite o valor fitness é transformado em negativo\n",
    "# Então todos os valores são deslocados pelo valor mínimo de fintess\n",
    "# transformando o menor valor negativo em zero\n",
    "def fitness_ajustado(populacao, limite_peso = limite_peso):\n",
    "    fitness_minimo = 0\n",
    "    fitness_penalizada = []\n",
    "    for index, individuo in enumerate(populacao):\n",
    "        \n",
    "        f_individuo = dict(fitness_individuo(individuo))\n",
    "        #adiciona o indice do individuo para auxiliar a seleção da próxima geração\n",
    "#         f_individuo['index'] = index \n",
    "        f_individuo['individuo'] = individuo \n",
    "        \n",
    "        peso = f_individuo['peso']\n",
    "        \n",
    "        #peso permitido\n",
    "        if peso <= limite_peso:\n",
    "            fitness_penalizada.append(f_individuo)\n",
    "            continue\n",
    "    \n",
    "        #transforma o fitenss em negativo\n",
    "#         f_individuo['valor'] = f_individuo['valor'] * -1\n",
    "        f_individuo['valor'] = 1.0 / f_individuo['valor']\n",
    "        \n",
    "        fitness_penalizada.append(f_individuo)\n",
    "        \n",
    "        if f_individuo['valor'] < fitness_minimo:\n",
    "            fitness_minimo = f_individuo['valor']\n",
    "    \n",
    "    return shift_fitness_list(fitness_penalizada, -1 * fitness_minimo)\n",
    "\n",
    "# Desloca os valores fitness pelo valor informado\n",
    "def shift_fitness_list(fitness_list, shift):\n",
    "    for f_individuo in fitness_list:\n",
    "        f_individuo['valor'] += shift\n",
    "\n",
    "    return fitness_list\n",
    "            \n",
    "#fitness_ajustado(populacao_inicial + populacao)\n"
   ]
  },
  {
   "cell_type": "markdown",
   "metadata": {},
   "source": [
    "# Reparação"
   ]
  },
  {
   "cell_type": "code",
   "execution_count": 9,
   "metadata": {},
   "outputs": [],
   "source": [
    "def reparar(populacao, limite_peso):\n",
    "    populacao_reparada = []\n",
    "    for individuo in populacao:\n",
    "        individuo_corrigido = list(individuo)\n",
    "        soma = sum_itens(get_itens_individuo(individuo_corrigido))\n",
    "        \n",
    "        while soma['peso'] > limite_peso:\n",
    "            individuo_corrigido = remover_item_individuo(individuo_corrigido)\n",
    "            soma = sum_itens(get_itens_individuo(individuo_corrigido))\n",
    "        \n",
    "        populacao_reparada.append(individuo_corrigido)\n",
    "    \n",
    "    return populacao_reparada\n",
    "\n",
    "def remover_item_individuo(individuo):\n",
    "    item = 0\n",
    "    index_item = 0\n",
    "    while item != 1:\n",
    "        index_item = random.randrange(len(individuo))\n",
    "        item = individuo[index_item]\n",
    "    \n",
    "    individuo_corrigido = list(individuo)\n",
    "    individuo_corrigido[index_item] = 0 #remove item\n",
    "    \n",
    "    return individuo_corrigido\n"
   ]
  },
  {
   "cell_type": "markdown",
   "metadata": {},
   "source": [
    "# Seleção para próxima geração"
   ]
  },
  {
   "cell_type": "code",
   "execution_count": 10,
   "metadata": {},
   "outputs": [],
   "source": [
    "def selecionar_nova_populacao(populacao, fitness, tamanho_geracao = tamanho_populacao):\n",
    "    ''' \n",
    "        Seleciona os melhores indivídus sobreviventes para a próxima geração\n",
    "        @return individuos selecionados e valores fitness\n",
    "    '''\n",
    "    fitness_populacao = sorted(fitness, key=lambda k: -k['valor']) \n",
    "   \n",
    "    nova_geracao = []\n",
    "    i = 0\n",
    "    while i < tamanho_populacao:\n",
    "        indice_selecionado = fitness_populacao[i]['index']\n",
    "        nova_geracao.append(populacao[indice_selecionado])\n",
    "        \n",
    "        i += 1\n",
    "        \n",
    "    return (nova_geracao, fitness_populacao[:tamanho_populacao])"
   ]
  },
  {
   "cell_type": "code",
   "execution_count": 11,
   "metadata": {},
   "outputs": [],
   "source": [
    "def selecionar_sobreviventes(fitness_populacao, tamanho_populacao):\n",
    "    sobreviventes = sorted(fitness_populacao, key=lambda f: f['valor'], reverse=True)\n",
    "    \n",
    "    num_sobreviventes = 0\n",
    "    selecionados = []\n",
    "    while num_sobreviventes < tamanho_populacao:\n",
    "        # print(sobreviventes[num_sobreviventes]['valor'])\n",
    "        selecionados.append(sobreviventes[num_sobreviventes]['individuo'])\n",
    "        num_sobreviventes += 1\n",
    "    \n",
    "    return selecionados\n",
    "    \n",
    "    \n",
    "#selecionar_sobreviventes(list(fitness(populacao) + fitness(populacao_reparada)), tamanho_populacao)"
   ]
  },
  {
   "cell_type": "markdown",
   "metadata": {},
   "source": [
    "# Teste"
   ]
  },
  {
   "cell_type": "code",
   "execution_count": 60,
   "metadata": {
    "scrolled": false
   },
   "outputs": [
    {
     "name": "stdout",
     "output_type": "stream",
     "text": [
      "FIM\n"
     ]
    },
    {
     "data": {
      "image/png": "[encoded data removed]",
      "text/plain": [
       "<Figure size 432x288 with 1 Axes>"
      ]
     },
     "metadata": {
      "needs_background": "light"
     },
     "output_type": "display_data"
    }
   ],
   "source": [
    "\n",
    "def media_fitness(fitness_list):\n",
    "    total = sum_itens(fitness_list)\n",
    "    size = len(fitness_list)\n",
    "    return {'valor' : float(total['valor'])/size, 'peso': total['peso']/size } \n",
    "\n",
    "\n",
    "\n",
    "# peso máximo da mochila\n",
    "limite_peso = 120 #C\n",
    "tamanho_populacao = 10 #Np\n",
    "probabilidade_mutacao = 0.005 # Pm\n",
    "probabilidade_crossover = 0.9 #Pc\n",
    "maximo_geracoes = 50\n",
    "\n",
    "melhores_individuos = []\n",
    "melhores_fitness = []\n",
    "fitness_medio = []\n",
    "\n",
    "pais = reparar(gerar_populacao_inicial(), tamanho_populacao)\n",
    "\n",
    "pais = gerar_populacao_inicial()\n",
    "geracao = 0\n",
    "\n",
    "while geracao < maximo_geracoes:\n",
    "    \n",
    "    selecionados_crossover = selecao_roleta(pais)\n",
    "    \n",
    "    selecionados_crusamento = selecao_roleta(pais)\n",
    "    \n",
    "    filhos = crossover(selecionados_crusamento, probabilidade_crossover)\n",
    "    filhos = mutar(filhos, probabilidade_mutacao)\n",
    "    \n",
    "    populacao_penalizada = fitness_ajustado(list(pais + filhos), limite_peso)\n",
    "    \n",
    "    pais = selecionar_sobreviventes(populacao_penalizada, tamanho_populacao)\n",
    "        \n",
    "#     fitness_melhores = sorted(fitness(pais, force_zero=False), key=lambda f: f['valor'], reverse=True)\n",
    "    fitness_melhores = sorted(populacao_penalizada, key=lambda f: f['valor'], reverse=True)\n",
    "    \n",
    "    melhores_individuos.append(list(fitness_melhores[0]['individuo']))\n",
    "    melhores_fitness.append(fitness_melhores[0])\n",
    "    \n",
    "    fitness_medio.append(media_fitness(fitness_melhores))\n",
    "    \n",
    "    geracao += 1\n",
    "\n",
    "# for m in melhores:\n",
    "#     print('Peso: %d \\t Valor: %d' %(m['peso'], m['valor']))\n",
    "\n",
    "\n",
    "import matplotlib.pyplot as plt\n",
    "\n",
    "valores = []\n",
    "indices = []\n",
    "for index, m in enumerate(melhores_fitness):\n",
    "    valores.append(m['valor'])\n",
    "    indices.append(index)\n",
    "\n",
    "plt.plot(indices, valores, 'r--')\n",
    "\n",
    "#print(melhores)\n",
    "    \n",
    "# print_geracao(melhores_fitness)\n",
    "# print(melhores_fitness)\n",
    "# print(fitness_medio)\n",
    "print('FIM')\n",
    "\n"
   ]
  },
  {
   "cell_type": "markdown",
   "metadata": {},
   "source": [
    "# Teste reparação"
   ]
  },
  {
   "cell_type": "code",
   "execution_count": 62,
   "metadata": {},
   "outputs": [
    {
     "name": "stdout",
     "output_type": "stream",
     "text": [
      "\n",
      "\n",
      "\n",
      "\n"
     ]
    },
    {
     "data": {
      "text/plain": [
       "[<matplotlib.lines.Line2D at 0x7f5917039668>]"
      ]
     },
     "execution_count": 62,
     "metadata": {},
     "output_type": "execute_result"
    },
    {
     "data": {
      "image/png": "[encoded data removed]",
      "text/plain": [
       "<Figure size 432x288 with 1 Axes>"
      ]
     },
     "metadata": {
      "needs_background": "light"
     },
     "output_type": "display_data"
    }
   ],
   "source": [
    "### Teste Reparação ###\n",
    "\n",
    "\n",
    "# peso máximo da mochila\n",
    "limite_peso = 120 #C\n",
    "tamanho_populacao = 100 #Np\n",
    "probabilidade_mutacao = 0.1 # Pm\n",
    "probabilidade_crossover = 0.9 #Pc\n",
    "maximo_geracoes = 100\n",
    "\n",
    "pais = gerar_populacao_inicial()\n",
    "#print_geracao(pais)\n",
    "geracao = 0\n",
    "\n",
    "melhores = []\n",
    "while geracao < maximo_geracoes:\n",
    "    \n",
    "    selecionados_crusamento = selecao_roleta(pais)\n",
    "    \n",
    "    filhos = crossover(selecionados_crusamento, probabilidade_crossover)\n",
    "    filhos = mutar(filhos, probabilidade_mutacao)\n",
    "    \n",
    "    pais_reparados = reparar(pais, limite_peso)\n",
    "    filhos = reparar(filhos, limite_peso)\n",
    "    \n",
    "    fitness_populacao = list(fitness(pais_reparados) + fitness(filhos))\n",
    "    pais = selecionar_sobreviventes(fitness_populacao, tamanho_populacao)\n",
    "        \n",
    "    fitness_melhores = sorted(fitness(pais), key=lambda f: f['valor'], reverse=True)\n",
    "    \n",
    "    melhores.append(fitness_melhores[0])\n",
    "    #print('GERAÇão')\n",
    "    \n",
    "    geracao += 1\n",
    "    \n",
    "print('\\n\\n\\n')\n",
    "#print( melhores )\n",
    "\n",
    "\n",
    "import matplotlib.pyplot as plt\n",
    "\n",
    "valores = []\n",
    "indices = []\n",
    "for index, m in enumerate(melhores):\n",
    "    valores.append(m['valor'])\n",
    "    indices.append(index)\n",
    " \n",
    "# print(valores)\n",
    "plt.plot(indices, valores, 'r--')\n",
    "\n"
   ]
  },
  {
   "cell_type": "code",
   "execution_count": 48,
   "metadata": {},
   "outputs": [],
   "source": [
    "import matplotlib.pyplot as plt\n",
    "\n",
    "def plot(melhores, media):\n",
    "    melhores_valores = [item['valor'] for item in melhores]\n",
    "    valores_medios = [item['valor'] for item in media]\n",
    "    \n",
    "    geracoes = [i for i in range(len(melhores_valores))]\n",
    "    \n",
    "    plt.plot(\n",
    "        geracoes, melhores_valores, 'r--', \n",
    "        geracoes, valores_medios, 'b--',\n",
    "    )\n",
    "    plt.show()"
   ]
  },
  {
   "cell_type": "code",
   "execution_count": 58,
   "metadata": {
    "scrolled": true
   },
   "outputs": [
    {
     "data": {
      "image/png": "[encoded data removed]",
      "text/plain": [
       "<Figure size 432x288 with 1 Axes>"
      ]
     },
     "metadata": {
      "needs_background": "light"
     },
     "output_type": "display_data"
    }
   ],
   "source": [
    "plot(melhores_fitness, fitness_medio)"
   ]
  }
 ],
 "metadata": {
  "kernelspec": {
   "display_name": "Python 3",
   "language": "python",
   "name": "python3"
  },
  "language_info": {
   "codemirror_mode": {
    "name": "ipython",
    "version": 3
   },
   "file_extension": ".py",
   "mimetype": "text/x-python",
   "name": "python",
   "nbconvert_exporter": "python",
   "pygments_lexer": "ipython3",
   "version": "3.7.1"
  }
 },
 "nbformat": 4,
 "nbformat_minor": 2
}
