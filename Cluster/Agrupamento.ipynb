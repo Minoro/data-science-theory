{
 "cells": [
  {
   "cell_type": "markdown",
   "metadata": {},
   "source": [
    "# Agrupamento\n",
    "\n",
    "**1- Descreva a ideia geral do critério de ligação Ward (Ward's method ou Ward's minimum variance method).**\n",
    "\n",
    "Utiliza a ideia da soma de erros ao quadrado (SSE). Os pontos iniciam como clusters independentes, então para cada iteração o algoritmo busca os clusters que minimizam a soma dos SSE entre os clusters. \n",
    "\n",
    "É calculada a distância entre os possíveis clusters, levando em consideração o ponto central dos mesmos e o número de pontos. Os clusters escolhidos são os que possuem o menor SSE.\n",
    "\n",
    "A distância calculada pode ser utilizada para inferir o número de clusters necessários para separar os dados. Altas distâncias calculadas pelo algoritmo pode ser um indicativo de que os clusters estão bem separados."
   ]
  },
  {
   "cell_type": "markdown",
   "metadata": {},
   "source": [
    "**2- Utilizando o dataset Iris (https://archive.ics.uci.edu/ml/datasets/iris), compare o resultado gerado com o critério complete linkage com o ward linkage. Qual método parece mais apropriado para o conjunto de dados estudado? Utilize dendrogramas na comparação.**\n",
    "\n",
    "\n",
    "Observando o dendograma com o critério complete linkage é possível observar um balanceamento maior entre as classes. \n",
    "Sendo visível uma separação entre dois grandes grupos.\n",
    "\n",
    "Por outro lado a divisão com o critério de ward, apesar de menos balanceada apresenta distâncias maiores entre a aglutinação dos clusters. \n",
    "Sendo possível, por exemplo, estabelecer um ponto de corte em uma distância no valor 8, fazendo visível uma separação em três clusters. \n",
    "\n",
    "Vale notar que o dataset possuí três classes: Iris Setosa, Iris Versicolour, Iris Virginica. Conhecendo o dataset pode-se  estabeler uma linha de corte em 3.5 para formar três classes para agrupamento dos dados do critério complete linkage. Assim, nota-se a eficiência do critério de ward para a separação desse dataset deixando uma distância mais visivel da separação de clusters, sendo mais interessante que a abordagem complete linkage."
   ]
  },
  {
   "cell_type": "code",
   "execution_count": 9,
   "metadata": {},
   "outputs": [
    {
     "data": {
      "text/html": [
       "<div>\n",
       "<style scoped>\n",
       "    .dataframe tbody tr th:only-of-type {\n",
       "        vertical-align: middle;\n",
       "    }\n",
       "\n",
       "    .dataframe tbody tr th {\n",
       "        vertical-align: top;\n",
       "    }\n",
       "\n",
       "    .dataframe thead th {\n",
       "        text-align: right;\n",
       "    }\n",
       "</style>\n",
       "<table border=\"1\" class=\"dataframe\">\n",
       "  <thead>\n",
       "    <tr style=\"text-align: right;\">\n",
       "      <th></th>\n",
       "      <th>sepal length (cm)</th>\n",
       "      <th>sepal width (cm)</th>\n",
       "      <th>petal length (cm)</th>\n",
       "      <th>petal width (cm)</th>\n",
       "    </tr>\n",
       "  </thead>\n",
       "  <tbody>\n",
       "    <tr>\n",
       "      <th>0</th>\n",
       "      <td>5.1</td>\n",
       "      <td>3.5</td>\n",
       "      <td>1.4</td>\n",
       "      <td>0.2</td>\n",
       "    </tr>\n",
       "    <tr>\n",
       "      <th>1</th>\n",
       "      <td>4.9</td>\n",
       "      <td>3.0</td>\n",
       "      <td>1.4</td>\n",
       "      <td>0.2</td>\n",
       "    </tr>\n",
       "    <tr>\n",
       "      <th>2</th>\n",
       "      <td>4.7</td>\n",
       "      <td>3.2</td>\n",
       "      <td>1.3</td>\n",
       "      <td>0.2</td>\n",
       "    </tr>\n",
       "    <tr>\n",
       "      <th>3</th>\n",
       "      <td>4.6</td>\n",
       "      <td>3.1</td>\n",
       "      <td>1.5</td>\n",
       "      <td>0.2</td>\n",
       "    </tr>\n",
       "    <tr>\n",
       "      <th>4</th>\n",
       "      <td>5.0</td>\n",
       "      <td>3.6</td>\n",
       "      <td>1.4</td>\n",
       "      <td>0.2</td>\n",
       "    </tr>\n",
       "  </tbody>\n",
       "</table>\n",
       "</div>"
      ],
      "text/plain": [
       "   sepal length (cm)  sepal width (cm)  petal length (cm)  petal width (cm)\n",
       "0                5.1               3.5                1.4               0.2\n",
       "1                4.9               3.0                1.4               0.2\n",
       "2                4.7               3.2                1.3               0.2\n",
       "3                4.6               3.1                1.5               0.2\n",
       "4                5.0               3.6                1.4               0.2"
      ]
     },
     "execution_count": 9,
     "metadata": {},
     "output_type": "execute_result"
    }
   ],
   "source": [
    "from scipy.cluster.hierarchy import dendrogram, linkage  \n",
    "from matplotlib import pyplot as plt\n",
    "import numpy as np\n",
    "import pandas as pd\n",
    "from sklearn.datasets import load_iris\n",
    "\n",
    "iris = load_iris()\n",
    "\n",
    "df = pd.DataFrame(data=iris['data'], columns=iris['feature_names'])\n",
    "target = pd.DataFrame(data=iris['target'], columns=['target'])\n",
    "\n",
    "df.head()"
   ]
  },
  {
   "cell_type": "markdown",
   "metadata": {},
   "source": [
    "## Critério complete linkage\n",
    "\n",
    "Complete linkage computa a distância média dos pontos dos clusters e une a menor distância."
   ]
  },
  {
   "cell_type": "code",
   "execution_count": 10,
   "metadata": {
    "scrolled": false
   },
   "outputs": [
    {
     "data": {
      "image/png": "[encoded data removed]",
      "text/plain": [
       "<Figure size 720x504 with 1 Axes>"
      ]
     },
     "metadata": {
      "needs_background": "light"
     },
     "output_type": "display_data"
    }
   ],
   "source": [
    "linked = linkage(df, method='complete')\n",
    "\n",
    "plt.figure(figsize=(10, 7))  \n",
    "plt.axhline(y=3.5, linewidth=2, color='y')\n",
    "\n",
    "dendrogram(linked)\n",
    "\n",
    "plt.show()\n"
   ]
  },
  {
   "cell_type": "markdown",
   "metadata": {},
   "source": [
    "## Critério de ward\n",
    "\n",
    "Separação por critério de ward. A linha amarela representa um exemplo de ponto de corte para estabelecer o número cluster a ser utilizado."
   ]
  },
  {
   "cell_type": "code",
   "execution_count": 10,
   "metadata": {},
   "outputs": [
    {
     "data": {
      "image/png": "[encoded data removed]",
      "text/plain": [
       "<Figure size 720x504 with 1 Axes>"
      ]
     },
     "metadata": {
      "needs_background": "light"
     },
     "output_type": "display_data"
    }
   ],
   "source": [
    "\n",
    "linked = linkage(df, method='ward')\n",
    "\n",
    "plt.figure(figsize=(10, 7))  \n",
    "\n",
    "plt.axhline(y=8, linewidth=2, color='y')\n",
    "\n",
    "\n",
    "dendrogram(linked)\n",
    "\n",
    "plt.show()\n"
   ]
  },
  {
   "cell_type": "markdown",
   "metadata": {},
   "source": [
    "\n",
    "**3- Considerando o dataset abaixo, qual o número de clusters k sugerido? Utilize o algoritmo k-means para agrupar k clusters.**\n",
    "\n",
    "\n",
    "Observando o dendograma obtido pelo critério de ward é possível estabelecer uma linha de corte quando as distâncias começam a crescer. Um ponto de corte a ser escolhido, por exemplo, é o ponto 20 (representado pela linha amarela), separando em três clusters."
   ]
  },
  {
   "cell_type": "code",
   "execution_count": 13,
   "metadata": {},
   "outputs": [
    {
     "data": {
      "image/png": "[encoded data removed]",
      "text/plain": [
       "<Figure size 576x360 with 1 Axes>"
      ]
     },
     "metadata": {
      "needs_background": "light"
     },
     "output_type": "display_data"
    }
   ],
   "source": [
    "\n",
    "data = np.array([\n",
    "    [18,11],\n",
    "    [21,22],\n",
    "    [22,15],\n",
    "    [24,12],\n",
    "    [26,13],\n",
    "    [26,14],\n",
    "    [27,33],\n",
    "    [30,39],\n",
    "    [31,37],\n",
    "    [35,44],\n",
    "    [39,27],\n",
    "    [40,29],\n",
    "    [41,20],\n",
    "    [42,28],\n",
    "    [44,21],\n",
    "    [46,30],\n",
    "    [47,31],\n",
    "    [48,23],\n",
    "    [49,24],\n",
    "    [54,25],\n",
    "])\n",
    "\n",
    "\n",
    "linked_data = linkage(data, method='ward')\n",
    "\n",
    "plt.figure(figsize=(8, 5))  \n",
    "plt.axhline(y=20, linewidth=2, color='y')\n",
    "\n",
    "dendrogram(linked_data)\n",
    "\n",
    "plt.show()\n",
    "\n"
   ]
  },
  {
   "cell_type": "markdown",
   "metadata": {},
   "source": [
    "# K-means\n",
    "\n",
    "Será adotado o valor 3 para o número de clusters, observado pelo critério de Ward. Abaixo está a distribuição original dos dados."
   ]
  },
  {
   "cell_type": "code",
   "execution_count": 14,
   "metadata": {},
   "outputs": [
    {
     "data": {
      "text/plain": [
       "<matplotlib.collections.PathCollection at 0x7fef2502b3c8>"
      ]
     },
     "execution_count": 14,
     "metadata": {},
     "output_type": "execute_result"
    },
    {
     "data": {
      "image/png": "[encoded data removed]",
      "text/plain": [
       "<Figure size 360x360 with 1 Axes>"
      ]
     },
     "metadata": {
      "needs_background": "light"
     },
     "output_type": "display_data"
    }
   ],
   "source": [
    "plt.figure(figsize=(5, 5))  \n",
    "plt.scatter(data[:, 0], data[:, 1])"
   ]
  },
  {
   "cell_type": "markdown",
   "metadata": {},
   "source": [
    "## Clusters\n",
    "\n",
    "Abaixo é possível ver a separação de dados realizada pelo K-means com $k=3$. Cada cor do gráfico indica um cluster. É possível ver três clusters bem definidos pelo algoritmo."
   ]
  },
  {
   "cell_type": "code",
   "execution_count": 15,
   "metadata": {},
   "outputs": [
    {
     "data": {
      "text/plain": [
       "<matplotlib.collections.PathCollection at 0x7fef2519f668>"
      ]
     },
     "execution_count": 15,
     "metadata": {},
     "output_type": "execute_result"
    },
    {
     "data": {
      "image/png": "[encoded data removed]",
      "text/plain": [
       "<Figure size 432x288 with 1 Axes>"
      ]
     },
     "metadata": {
      "needs_background": "light"
     },
     "output_type": "display_data"
    }
   ],
   "source": [
    "from sklearn.cluster import KMeans\n",
    "kmeans = KMeans(n_clusters=3)\n",
    "kmeans.fit(data)\n",
    "\n",
    "plt.scatter(data[:,0],\n",
    "            data[:,1], \n",
    "            c=kmeans.labels_, \n",
    "            cmap='coolwarm')  \n"
   ]
  }
 ],
 "metadata": {
  "kernelspec": {
   "display_name": "Python 3",
   "language": "python",
   "name": "python3"
  },
  "language_info": {
   "codemirror_mode": {
    "name": "ipython",
    "version": 3
   },
   "file_extension": ".py",
   "mimetype": "text/x-python",
   "name": "python",
   "nbconvert_exporter": "python",
   "pygments_lexer": "ipython3",
   "version": "3.7.3"
  }
 },
 "nbformat": 4,
 "nbformat_minor": 2
}
