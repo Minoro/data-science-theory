{
 "cells": [
  {
   "cell_type": "markdown",
   "metadata": {},
   "source": [
    "# Operações com Vetores\n",
    "\n",
    "Exemplos de operações básicas e álgebra linear sobre vetores.\n",
    "\n",
    "Os exemplos feitos em python **não** devem ser utilizados em produção, eles são apenas para ilustar as operações em um nível mais próximo da operação real que está sendo realizada, em casos reais deve-se utilizar bibliotécas específicas para estas operações."
   ]
  },
  {
   "cell_type": "code",
   "execution_count": 14,
   "metadata": {
    "scrolled": true
   },
   "outputs": [
    {
     "name": "stdout",
     "output_type": "stream",
     "text": [
      "Dados:\n",
      "[4, 2, 9, 2, 10]\n",
      "\n",
      "\n",
      "Tamanho:\n",
      "5\n",
      "Matriz:\n",
      "[[1, 4], [2, 3], [1, 0]]\n",
      "\n",
      "\n",
      "Tamanho:\n",
      "2 x 2 x 2\n"
     ]
    }
   ],
   "source": [
    "# python não possuí vetores nativos\n",
    "# listas podem ser utilizadas para representação de vetores\n",
    "dados = [4, 2, 9, 2, 10]\n",
    "pesos = [2, 1, 3, 1, 4, 5]\n",
    "\n",
    "\n",
    "print('Dados:')\n",
    "print(dados)\n",
    "\n",
    "print('\\n')\n",
    "\n",
    "print('Tamanho:')\n",
    "print(len(dados))\n",
    "\n",
    "# uma matriz pode ser representada como uma lista de lista\n",
    "matriz = [\n",
    "    [1, 4], \n",
    "    [2, 3], \n",
    "    [1, 0]\n",
    "]\n",
    "\n",
    "print('Matriz:')\n",
    "print(matriz)\n",
    "\n",
    "print('\\n')\n",
    "\n",
    "print('Tamanho:')\n",
    "print('%d x %d x %d' % (len(matriz[0]), len(matriz[1]), len(matriz[2]) ))"
   ]
  },
  {
   "cell_type": "markdown",
   "metadata": {},
   "source": [
    "## Adição e Subtração de vetores\n",
    "\n",
    "A adição de vetores é feita somando/subtraindo os componentes de cada vetor, componente a componente.\n",
    "\n",
    "Seja os vetores $\\vec v = (x_1, x_2)$ e $\\vec w = (y_1, y_2)$ a adição desses vetores é dada por:\n",
    "$$\\vec v + \\vec w = (x_1 + y_1, x_2 + y_2)$$\n",
    "\n",
    "O resultado da adição de vetores é um novo vetor com a soma das componentes. O resultado da subtração é um novo vetor com os componentes subtraidos."
   ]
  },
  {
   "cell_type": "code",
   "execution_count": 17,
   "metadata": {},
   "outputs": [
    {
     "name": "stdout",
     "output_type": "stream",
     "text": [
      "v =  [2, 3]\n",
      "w =  [5, 2]\n",
      "v + w =  [7, 5]\n"
     ]
    }
   ],
   "source": [
    "v = [2, 3]\n",
    "\n",
    "w = [5, 2]\n",
    "\n",
    "result = [v[0] + w[0], v[1] + w[1]]\n",
    "\n",
    "print('v = ', v)\n",
    "print('w = ', w)\n",
    "\n",
    "print(\"v + w = \", result)\n"
   ]
  },
  {
   "cell_type": "code",
   "execution_count": 19,
   "metadata": {},
   "outputs": [
    {
     "name": "stdout",
     "output_type": "stream",
     "text": [
      "v + w =  [7, 5]\n"
     ]
    }
   ],
   "source": [
    "# função para adicionar vetores\n",
    "def vector_add(v, w):\n",
    "    return [\n",
    "            v_i + w_i #soma as componentes\n",
    "            for v_i, w_i in zip(v, w) # combina as componentes do vetor para serem somadas\n",
    "           ]\n",
    "\n",
    "print(\"v + w = \", vector_add(v, w))"
   ]
  },
  {
   "cell_type": "code",
   "execution_count": 25,
   "metadata": {},
   "outputs": [
    {
     "name": "stdout",
     "output_type": "stream",
     "text": [
      "v + w =  [7 5]\n"
     ]
    }
   ],
   "source": [
    "# Com numpy\n",
    "import numpy as np\n",
    "\n",
    "print(\"v + w = \", np.add(v, w))"
   ]
  },
  {
   "cell_type": "code",
   "execution_count": 27,
   "metadata": {},
   "outputs": [
    {
     "name": "stdout",
     "output_type": "stream",
     "text": [
      "v - w =  [-3, 1]\n",
      "w - v =  [3, -1]\n"
     ]
    }
   ],
   "source": [
    "# função para subtrair vetores\n",
    "def vector_sub(v, w):\n",
    "    return [\n",
    "        v_i - w_i #subtrai as componentes\n",
    "            for v_i, w_i in zip(v, w) # combina as componentes (v1, w1) (v2, w2)\n",
    "    ]\n",
    "\n",
    "print(\"v - w = \", vector_sub(v, w))\n",
    "print(\"w - v = \", vector_sub(w, v))"
   ]
  },
  {
   "cell_type": "code",
   "execution_count": 30,
   "metadata": {},
   "outputs": [
    {
     "name": "stdout",
     "output_type": "stream",
     "text": [
      "v - w =  [-3  1]\n",
      "w - v =  [ 3 -1]\n"
     ]
    }
   ],
   "source": [
    "import numpy as np\n",
    "\n",
    "print(\"v - w = \", np.subtract(v, w))\n",
    "print(\"w - v = \", np.subtract(w, v))"
   ]
  },
  {
   "cell_type": "code",
   "execution_count": 34,
   "metadata": {},
   "outputs": [
    {
     "name": "stdout",
     "output_type": "stream",
     "text": [
      "[8, 15]\n"
     ]
    }
   ],
   "source": [
    "# ao adicionar vários vetores temos um novo vetor\n",
    "# a primeira posição tem a soma de todos os elementos da primeira posição\n",
    "# a segunda posição tem a soma da segunda, etc\n",
    "# para adicionar vários vetores podemos utilizar a função de adição aplicadas a todos os vetores\n",
    "\n",
    "from functools import reduce\n",
    "def vector_sum(vectors):\n",
    "    return reduce(vector_add, vectors) #aplica a função vector_add em todos os vetores\n",
    "    \n",
    "    \n",
    "vectors = [\n",
    "    [2, 4], \n",
    "    [5, 5], \n",
    "    [1, 6]\n",
    "]\n",
    "\n",
    "print(\"Soma dos vetores:\")\n",
    "print(vector_sum(vectors))"
   ]
  },
  {
   "cell_type": "code",
   "execution_count": 40,
   "metadata": {},
   "outputs": [
    {
     "name": "stdout",
     "output_type": "stream",
     "text": [
      "Soma dos vetores com numpy\n",
      "Soma por coluna\n",
      "[ 8 15]\n",
      "\n",
      "\n",
      "Soma por linha\n",
      "[ 6 10  7]\n"
     ]
    }
   ],
   "source": [
    "import numpy as np\n",
    "\n",
    "print(\"Soma dos vetores com numpy\")\n",
    "\n",
    "print(\"Soma por coluna\")\n",
    "print(np.sum(vectors, axis=0)) # necessário informar o eixo da soma\n",
    "\n",
    "print('\\n')\n",
    "\n",
    "print(\"Soma por linha\")\n",
    "print(np.sum(vectors, axis=1))"
   ]
  },
  {
   "cell_type": "markdown",
   "metadata": {},
   "source": [
    "## Multiplicação por escalar\n",
    "\n",
    "A multiplicação por escalar é a multiplicação de uma constante $c$ a todos os elementos de um vetor $\\vec v$:\n",
    "$$ c * \\vec v = (c * x_1, c * x_2) $$"
   ]
  },
  {
   "cell_type": "code",
   "execution_count": 43,
   "metadata": {},
   "outputs": [
    {
     "name": "stdout",
     "output_type": "stream",
     "text": [
      "c * v =  [4, 6]\n"
     ]
    }
   ],
   "source": [
    "v = [2, 3]\n",
    "\n",
    "w = [5, 2]\n",
    "\n",
    "c = 2\n",
    "\n",
    "result = [v[0] * c, v[1] * c] \n",
    "print('c * v = ', result)"
   ]
  },
  {
   "cell_type": "code",
   "execution_count": 44,
   "metadata": {},
   "outputs": [
    {
     "name": "stdout",
     "output_type": "stream",
     "text": [
      "Multiplicação:\n",
      "[4, 6]\n"
     ]
    }
   ],
   "source": [
    "def scalar_multiply(c, v):\n",
    "    return [ c * v_i for v_i in v ]\n",
    "\n",
    "print(\"Multiplicação:\")\n",
    "print(scalar_multiply(c, v))"
   ]
  },
  {
   "cell_type": "code",
   "execution_count": 50,
   "metadata": {},
   "outputs": [
    {
     "name": "stdout",
     "output_type": "stream",
     "text": [
      "Multiplicação com numpy:\n",
      "[4 6]\n"
     ]
    }
   ],
   "source": [
    "import numpy as np\n",
    "\n",
    "print(\"Multiplicação com numpy:\")\n",
    "print(np.array(v, dtype=np.uint8) * c)"
   ]
  },
  {
   "cell_type": "code",
   "execution_count": 58,
   "metadata": {},
   "outputs": [
    {
     "name": "stdout",
     "output_type": "stream",
     "text": [
      "[3.5, 2.5]\n"
     ]
    }
   ],
   "source": [
    "# média de vetores\n",
    "def vector_mean(vectors):\n",
    "    n = len(vectors)\n",
    "    return scalar_multiply( 1/n, vector_sum(vectors))\n",
    "\n",
    "print(vector_mean([v, w]))"
   ]
  },
  {
   "cell_type": "markdown",
   "metadata": {},
   "source": [
    "## Produto interno / Produto escalar / Dot product\n",
    "\n",
    "É a soma do produto das componentes de dois vetores:\n",
    "$$ \\vec v \\cdot \\vec w = (v_1 * w_1) + (v_2 * w_2) + ... + (v_n * w_n) $$ \n",
    "\n",
    "A ideia geral é: Qual é o tamanho do vetor que você tem se projetasse $\\vec v$ em $\\vec w$ "
   ]
  },
  {
   "cell_type": "code",
   "execution_count": 59,
   "metadata": {},
   "outputs": [
    {
     "name": "stdout",
     "output_type": "stream",
     "text": [
      "16\n"
     ]
    }
   ],
   "source": [
    "def dot(v, w):\n",
    "    return sum(v_i * w_i for v_i, w_i in zip(v, w))\n",
    "\n",
    "print(dot(v, w))"
   ]
  },
  {
   "cell_type": "code",
   "execution_count": 60,
   "metadata": {},
   "outputs": [
    {
     "name": "stdout",
     "output_type": "stream",
     "text": [
      "16\n"
     ]
    }
   ],
   "source": [
    "import numpy as np\n",
    "\n",
    "print(np.dot(v,w))"
   ]
  }
 ],
 "metadata": {
  "kernelspec": {
   "display_name": "Python 3",
   "language": "python",
   "name": "python3"
  },
  "language_info": {
   "codemirror_mode": {
    "name": "ipython",
    "version": 3
   },
   "file_extension": ".py",
   "mimetype": "text/x-python",
   "name": "python",
   "nbconvert_exporter": "python",
   "pygments_lexer": "ipython3",
   "version": "3.7.1"
  }
 },
 "nbformat": 4,
 "nbformat_minor": 2
}
