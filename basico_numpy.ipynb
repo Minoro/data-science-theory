{
 "cells": [
  {
   "cell_type": "markdown",
   "metadata": {},
   "source": [
    "# Exemplos de código com Numpy\n",
    "\n",
    "Numpy é uma biblioteca para agilizar operações matemáticas em python.\n",
    "\n",
    "Para utilizar o numpy é necessário importá-lo:"
   ]
  },
  {
   "cell_type": "code",
   "execution_count": 8,
   "metadata": {},
   "outputs": [],
   "source": [
    "import numpy as np"
   ]
  },
  {
   "cell_type": "markdown",
   "metadata": {},
   "source": [
    "Uma grande vantegem do numpy é a utilização de array de dados homogêneos. \n",
    "\n",
    "Por padrão python utiliza o conceito de lista, que pode ser lento para operaçẽs matemáticas.\n",
    "\n",
    "Os arrays do numpy carregam dados de tamanho fixo, agilizanddo as operações, além de metadados que são informações sobre os dados do array, como por exempo tamanho, tipo utilizado para o dado, taamanho em bytes, etc."
   ]
  },
  {
   "cell_type": "code",
   "execution_count": 18,
   "metadata": {},
   "outputs": [
    {
     "name": "stdout",
     "output_type": "stream",
     "text": [
      "[0 1 2 3 4]\n",
      "(5,)\n",
      "int64\n",
      "Exemplo de array criado com dados python\n",
      "[[1 2 3]\n",
      " [4 5 6]]\n",
      "int64\n",
      "[[1. 2. 3.]\n",
      " [4. 5. 6.]]\n",
      "float64\n"
     ]
    }
   ],
   "source": [
    "#exemplo de array com numpy\n",
    "data = np.arange(5)\n",
    "\n",
    "print(data)\n",
    "\n",
    "#dimensões do array\n",
    "print(data.shape)\n",
    "\n",
    "#tipo de dado utilizado no array\n",
    "print(data.dtype)\n",
    "\n",
    "\n",
    "#cria um array utizando uma lista do python\n",
    "data = np.array([[1,2,3], [4,5,6]])\n",
    "\n",
    "print(\"Exemplo de array criado com dados python\")\n",
    "\n",
    "print(data)\n",
    "\n",
    "print(data.dtype)\n",
    "\n",
    "\n",
    "#cria um array de tipo diferente\n",
    "data = np.array([[1,2,3], [4,5,6]], dtype=\"float64\")\n",
    "\n",
    "print(data)\n",
    "print(data.dtype)\n"
   ]
  },
  {
   "cell_type": "markdown",
   "metadata": {},
   "source": [
    "Os acessos aos dados dos arrays e matrizes do numpy são similares ao da lista python"
   ]
  },
  {
   "cell_type": "code",
   "execution_count": 28,
   "metadata": {},
   "outputs": [
    {
     "name": "stdout",
     "output_type": "stream",
     "text": [
      "[1. 2. 3.]\n",
      "1.0\n",
      "[[4.]]\n"
     ]
    }
   ],
   "source": [
    "#acessando primeiro elemento\n",
    "print(data[0]) \n",
    "\n",
    "#acessando matriz\n",
    "print(data[0][0])\n",
    "\n",
    "#acessanddo todos os elementos a partir da primeira linha até a primeira coluna\n",
    "print(data[1:, :1])"
   ]
  },
  {
   "cell_type": "markdown",
   "metadata": {},
   "source": [
    "## Tipos de dados \n",
    "Existem diversos tipos de dados com diferentes tamanhos em numpy\n",
    "\n",
    "\n",
    "|tipo|tamanho|\n",
    "|----|-------|\n",
    "|bool | Verdadeiro ou Falso (1 bit)|\n",
    "|int8| Inteiro de um Byte (-128, 127)|\n",
    "|int16 | Inteiro 2 Bytes (-32768, 32767)|\n",
    "|int32 | Inteiro 4 Bytes ($-2^{31}$, $2^{31} - 1$)|\n",
    "|int64 | Inteiro 8 Bytes ($-2^{63}$, $2^{63} - 1$)|\n",
    "|uint8 | Inteiro sem sinal (0, 255)|\n",
    "|uint16 | Inteiro sem sinal (0, 65535)|\n",
    "|float16| Ponto flutuante de 16 bits|\n",
    "|float32 | Ponto flutuante de 32 bits|\n",
    "|float64 | Ponto flutuante de 64 bits|\n",
    "|complex64 | Número complexo que utiliza 2 float32|\n",
    "|complex128| Número complexo que utiliza 2 float64|"
   ]
  },
  {
   "cell_type": "code",
   "execution_count": 34,
   "metadata": {},
   "outputs": [
    {
     "name": "stdout",
     "output_type": "stream",
     "text": [
      "Inteiro\n",
      "7\n",
      "int8\n",
      "\n",
      "Ponto flutuante\n",
      "222.0\n",
      "float16\n",
      "\n",
      "Array com tipo definido\n",
      "[0. 1. 2. 3. 4.]\n",
      "float16\n"
     ]
    }
   ],
   "source": [
    "print(\"Inteiro\")\n",
    "inteiro_8bits = np.int8(7)\n",
    "print(inteiro_8bits)\n",
    "print(inteiro_8bits.dtype)\n",
    "\n",
    "print(\"\\nPonto flutuante\")\n",
    "ponto_flutuante = np.float16(222)\n",
    "print(ponto_flutuante)\n",
    "print(ponto_flutuante.dtype)\n",
    "\n",
    "print(\"\\nArray com tipo definido\")\n",
    "array_float = np.arange(5, dtype=np.float16)\n",
    "print(array_float)\n",
    "print(array_float.dtype)\n"
   ]
  },
  {
   "cell_type": "markdown",
   "metadata": {},
   "source": [
    "## Manipulando a forma do array\n",
    "\n",
    "Com numpy pode-se manipular a forma do array e matriz com métodos simples"
   ]
  },
  {
   "cell_type": "code",
   "execution_count": 37,
   "metadata": {},
   "outputs": [
    {
     "name": "stdout",
     "output_type": "stream",
     "text": [
      "[ 0  1  2  3  4  5  6  7  8  9 10 11 12 13 14 15 16 17 18 19 20 21 22 23\n",
      " 24]\n",
      "[[ 0  1  2  3  4]\n",
      " [ 5  6  7  8  9]\n",
      " [10 11 12 13 14]\n",
      " [15 16 17 18 19]\n",
      " [20 21 22 23 24]]\n"
     ]
    }
   ],
   "source": [
    "data = np.arange(25)\n",
    "\n",
    "print(data)\n",
    "\n",
    "#transforma em uma matriz 5x5\n",
    "data = data.reshape(5,5)\n",
    "\n",
    "print(data)"
   ]
  },
  {
   "cell_type": "code",
   "execution_count": 41,
   "metadata": {},
   "outputs": [
    {
     "name": "stdout",
     "output_type": "stream",
     "text": [
      "[ 0  1  2  3  4  5  6  7  8  9 10 11 12 13 14 15 16 17 18 19 20 21 22 23\n",
      " 24]\n",
      "[ 0  1  2  3  4  5  6  7  8  9 10 11 12 13 14 15 16 17 18 19 20 21 22 23\n",
      " 24]\n"
     ]
    }
   ],
   "source": [
    "#passa para o formato unidimensional\n",
    "print(data.ravel())\n",
    "\n",
    "print(data.flatten())\n"
   ]
  },
  {
   "cell_type": "code",
   "execution_count": 43,
   "metadata": {},
   "outputs": [
    {
     "name": "stdout",
     "output_type": "stream",
     "text": [
      "[[ 0]\n",
      " [ 1]\n",
      " [ 2]\n",
      " [ 3]\n",
      " [ 4]\n",
      " [ 5]\n",
      " [ 6]\n",
      " [ 7]\n",
      " [ 8]\n",
      " [ 9]\n",
      " [10]\n",
      " [11]\n",
      " [12]\n",
      " [13]\n",
      " [14]\n",
      " [15]\n",
      " [16]\n",
      " [17]\n",
      " [18]\n",
      " [19]\n",
      " [20]\n",
      " [21]\n",
      " [22]\n",
      " [23]\n",
      " [24]]\n"
     ]
    }
   ],
   "source": [
    "#manipula diretamente o formato do array\n",
    "\n",
    "data.shape = (25, 1)\n",
    "\n",
    "print(data)"
   ]
  },
  {
   "cell_type": "markdown",
   "metadata": {},
   "source": [
    "## Stacking - Concatenando arrays\n",
    "\n",
    "Pode-se concatenar matrizes horizontal e verticalmente com numpy"
   ]
  },
  {
   "cell_type": "code",
   "execution_count": 49,
   "metadata": {},
   "outputs": [
    {
     "name": "stdout",
     "output_type": "stream",
     "text": [
      "[[ 0  1  2  3  4]\n",
      " [ 5  6  7  8  9]\n",
      " [10 11 12 13 14]\n",
      " [15 16 17 18 19]\n",
      " [20 21 22 23 24]]\n",
      "\n",
      "\n",
      "\n",
      "[[ 0  2  4  6  8]\n",
      " [10 12 14 16 18]\n",
      " [20 22 24 26 28]\n",
      " [30 32 34 36 38]\n",
      " [40 42 44 46 48]]\n",
      "\n",
      "\n",
      "\n",
      "Concatenando horizontalmente\n",
      "[[ 0  1  2  3  4  0  2  4  6  8]\n",
      " [ 5  6  7  8  9 10 12 14 16 18]\n",
      " [10 11 12 13 14 20 22 24 26 28]\n",
      " [15 16 17 18 19 30 32 34 36 38]\n",
      " [20 21 22 23 24 40 42 44 46 48]]\n",
      "\n",
      "\n",
      "\n",
      "Concatenando verticalmente\n",
      "[[ 0  1  2  3  4]\n",
      " [ 5  6  7  8  9]\n",
      " [10 11 12 13 14]\n",
      " [15 16 17 18 19]\n",
      " [20 21 22 23 24]\n",
      " [ 0  2  4  6  8]\n",
      " [10 12 14 16 18]\n",
      " [20 22 24 26 28]\n",
      " [30 32 34 36 38]\n",
      " [40 42 44 46 48]]\n"
     ]
    }
   ],
   "source": [
    "data = np.arange(25).reshape(5,5)\n",
    "\n",
    "new_data = data * 2\n",
    "\n",
    "print(data)\n",
    "print('\\n\\n')\n",
    "print(new_data)\n",
    "\n",
    "\n",
    "print('\\n\\n')\n",
    "print('Concatenando horizontalmente')\n",
    "# O argumento é uma tupla com os dados a serem concatenados\n",
    "print(np.hstack((data, new_data)))\n",
    "\n",
    "print('\\n\\n')\n",
    "print('Concatenando verticalmente')\n",
    "print(np.vstack((data, new_data)))"
   ]
  }
 ],
 "metadata": {
  "kernelspec": {
   "display_name": "Python 3",
   "language": "python",
   "name": "python3"
  },
  "language_info": {
   "codemirror_mode": {
    "name": "ipython",
    "version": 3
   },
   "file_extension": ".py",
   "mimetype": "text/x-python",
   "name": "python",
   "nbconvert_exporter": "python",
   "pygments_lexer": "ipython3",
   "version": "3.7.1"
  }
 },
 "nbformat": 4,
 "nbformat_minor": 2
}
